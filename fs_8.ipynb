{
  "nbformat": 4,
  "nbformat_minor": 0,
  "metadata": {
    "colab": {
      "provenance": [],
      "mount_file_id": "1U5qWuMehynf55Ib-l9zf5YwGH4RkSuhv",
      "authorship_tag": "ABX9TyNx8aceB3NWdwRYMJM6t0ld",
      "include_colab_link": true
    },
    "kernelspec": {
      "name": "python3",
      "display_name": "Python 3"
    },
    "language_info": {
      "name": "python"
    }
  },
  "cells": [
    {
      "cell_type": "markdown",
      "metadata": {
        "id": "view-in-github",
        "colab_type": "text"
      },
      "source": [
        "<a href=\"https://colab.research.google.com/github/notjaswanth69/fs-8/blob/main/fs_8.ipynb\" target=\"_parent\"><img src=\"https://colab.research.google.com/assets/colab-badge.svg\" alt=\"Open In Colab\"/></a>"
      ]
    },
    {
      "cell_type": "code",
      "execution_count": 1,
      "metadata": {
        "colab": {
          "base_uri": "https://localhost:8080/"
        },
        "id": "DQTvieuBD-xn",
        "outputId": "1541ead4-d08a-431a-d335-f54101d9300e"
      },
      "outputs": [
        {
          "output_type": "stream",
          "name": "stdout",
          "text": [
            "Selected feature: Regionname, MAE: 3419.9372\n",
            "Selected feature: Type, MAE: 3388.3608\n",
            "Selected feature: Postcode, MAE: 3386.3254\n",
            "Selected feature: Bathroom, MAE: 3383.1496\n",
            "Selected feature: Distance, MAE: 3381.8061\n",
            "Selected feature: Date, MAE: 3381.5598\n",
            "\n",
            "Optimal set of features: ['Regionname', 'Type', 'Postcode', 'Bathroom', 'Distance', 'Date']\n",
            "MAE progression: [3419.9371552030493, 3388.3608408268474, 3386.325435298081, 3383.149568388873, 3381.806063508436, 3381.559820194518]\n",
            "MAE with all features: 3462.3589\n",
            "Final MAE with selected features: 3381.5598\n"
          ]
        }
      ],
      "source": [
        "import pandas as pd\n",
        "from sklearn.preprocessing import LabelEncoder\n",
        "from sklearn.model_selection import train_test_split\n",
        "from sklearn.linear_model import LinearRegression\n",
        "from sklearn.metrics import mean_absolute_error\n",
        "\n",
        "# Load the dataset\n",
        "data = pd.read_csv('/content/melbourne_housing_raw.csv')\n",
        "\n",
        "# Encode categorical features\n",
        "label_encoder = LabelEncoder()\n",
        "for column in data.select_dtypes(include=['object']).columns:\n",
        "    data[column] = label_encoder.fit_transform(data[column])\n",
        "\n",
        "# Define features (X) and target variable (y)\n",
        "X = data.drop('Propertycount', axis=1)\n",
        "y = data['Propertycount']\n",
        "\n",
        "# Handle missing values in the target variable\n",
        "if y.isnull().any():\n",
        "    y = y.dropna()\n",
        "    X = X.loc[y.index]\n",
        "\n",
        "# Drop any remaining missing values in features\n",
        "X_dropped = X.dropna()\n",
        "\n",
        "# Split the data into training and testing sets\n",
        "X_train, X_test, y_train, y_test = train_test_split(X_dropped, y[X_dropped.index], test_size=0.3, random_state=42)\n",
        "\n",
        "def evaluate_model(X_train, X_test, y_train, y_test):\n",
        "    \"\"\"Train a Linear Regression model and return the Mean Absolute Error.\"\"\"\n",
        "    model = LinearRegression()\n",
        "    model.fit(X_train, y_train)\n",
        "    y_pred = model.predict(X_test)\n",
        "    return mean_absolute_error(y_test, y_pred)\n",
        "\n",
        "def forward_feature_selection(X_train, X_test, y_train, y_test):\n",
        "    \"\"\"Perform forward feature selection to find the optimal set of features.\"\"\"\n",
        "    selected_features = []\n",
        "    remaining_features = list(X_train.columns)\n",
        "    best_mae = float('inf')\n",
        "    mae_progression = []\n",
        "\n",
        "    while remaining_features:\n",
        "        mae_candidates = {}\n",
        "        for feature in remaining_features:\n",
        "            current_features = selected_features + [feature]\n",
        "            mae = evaluate_model(X_train[current_features], X_test[current_features], y_train, y_test)\n",
        "            mae_candidates[feature] = mae\n",
        "\n",
        "        # Select the feature with the lowest MAE\n",
        "        best_feature = min(mae_candidates, key=mae_candidates.get)\n",
        "        best_feature_mae = mae_candidates[best_feature]\n",
        "\n",
        "        if best_feature_mae < best_mae:\n",
        "            selected_features.append(best_feature)\n",
        "            remaining_features.remove(best_feature)\n",
        "            best_mae = best_feature_mae\n",
        "            mae_progression.append(best_mae)\n",
        "            print(f\"Selected feature: {best_feature}, MAE: {best_feature_mae:.4f}\")\n",
        "        else:\n",
        "            break\n",
        "\n",
        "    return selected_features, mae_progression\n",
        "\n",
        "# Perform forward feature selection\n",
        "selected_features, mae_progression = forward_feature_selection(X_train, X_test, y_train, y_test)\n",
        "\n",
        "# Display results\n",
        "print(f\"\\nOptimal set of features: {selected_features}\")\n",
        "print(f\"MAE progression: {mae_progression}\")\n",
        "\n",
        "# Evaluate final performance with all features\n",
        "final_mae_all_features = evaluate_model(X_train, X_test, y_train, y_test)\n",
        "print(f\"MAE with all features: {final_mae_all_features:.4f}\")\n",
        "\n",
        "# Evaluate final performance with selected features\n",
        "final_mae_selected_features = evaluate_model(X_train[selected_features], X_test[selected_features], y_train, y_test)\n",
        "print(f\"Final MAE with selected features: {final_mae_selected_features:.4f}\")"
      ]
    }
  ]
}